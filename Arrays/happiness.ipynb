{
 "cells": [
  {
   "cell_type": "markdown",
   "id": "fffde725-d504-465e-a131-cf1a10c45fd7",
   "metadata": {},
   "source": [
    "There is an array of $n$ integers. There are also **2 disjoint sets**, $A$ and $B$, each containing $m$ integers. You like all the integers in set $A$ and dislike all the integers in set $B$. Your initial happiness is $0$. For each $i$ integer in the array, if $i \\in A$, you add 1 to your happiness. If $i \\in B$, you add $—1$ to your happiness. Otherwise, your happiness does not change. Output your final happiness at the end.\n",
    "\n",
    "**Note**: Since $A$ and $B$ are sets, they have no repeated elements. However, the array might contain duplicate elements.\n",
    "\n",
    "**Constraints**\n",
    "\n",
    "$$\n",
    "\n",
    "1 ≤ n ≤ 10^5\n",
    "\n",
    "\n",
    "1≤ m ≤ 105\n",
    "\n",
    "1 ≤ Any integer in the input ≤ 10°\n",
    "$$\n",
    "\n",
    "Input Format\n",
    "The first line contains integers n and m separated by a space.\n",
    "The second line contains n integers, the elements of the array.\n",
    "The third and fourth lines contain m integers, A and B, respectively.\n",
    "Output Format\n",
    "Output a single integer, your total happiness.\n",
    "Sample Input\n",
    "3 2\n",
    "1 5\n",
    "3\n",
    "3 1\n",
    "5 7\n",
    "Sample Output\n",
    "1\n",
    "Explanation\n",
    "You gain 1 unit of happiness for elements 3 and 1 in set A. You lose 1 unit for 5 in set B. The element 7 in set B does not exist in the array so it is not included in the calculation.\n",
    "Hence, the total happiness is 2 - 1 = 1."
   ]
  },
  {
   "cell_type": "code",
   "execution_count": 59,
   "id": "383416a2-1536-4dd8-8652-36e4549ac899",
   "metadata": {
    "execution": {
     "iopub.execute_input": "2025-07-25T02:20:56.263937Z",
     "iopub.status.busy": "2025-07-25T02:20:56.263315Z",
     "iopub.status.idle": "2025-07-25T02:20:56.269233Z",
     "shell.execute_reply": "2025-07-25T02:20:56.268075Z",
     "shell.execute_reply.started": "2025-07-25T02:20:56.263895Z"
    }
   },
   "outputs": [],
   "source": [
    "f = open(\"happiness.dat\", \"r\")    "
   ]
  },
  {
   "cell_type": "code",
   "execution_count": 60,
   "id": "fdb94614-a824-41c9-9a4f-08ccc639bb92",
   "metadata": {
    "execution": {
     "iopub.execute_input": "2025-07-25T02:20:56.612765Z",
     "iopub.status.busy": "2025-07-25T02:20:56.612420Z",
     "iopub.status.idle": "2025-07-25T02:20:56.616022Z",
     "shell.execute_reply": "2025-07-25T02:20:56.615294Z",
     "shell.execute_reply.started": "2025-07-25T02:20:56.612743Z"
    }
   },
   "outputs": [],
   "source": [
    "n,m = map(int,f.readline().strip().split(\" \"))"
   ]
  },
  {
   "cell_type": "code",
   "execution_count": 61,
   "id": "4cd59751-ce8e-445f-8816-813d60404738",
   "metadata": {
    "execution": {
     "iopub.execute_input": "2025-07-25T02:20:56.941532Z",
     "iopub.status.busy": "2025-07-25T02:20:56.940992Z",
     "iopub.status.idle": "2025-07-25T02:20:56.945593Z",
     "shell.execute_reply": "2025-07-25T02:20:56.944767Z",
     "shell.execute_reply.started": "2025-07-25T02:20:56.941501Z"
    }
   },
   "outputs": [],
   "source": [
    "a = set(map(int,f.readline().strip().split(\" \")))"
   ]
  },
  {
   "cell_type": "code",
   "execution_count": 62,
   "id": "2c13ae03-c670-481b-ba46-c35c9d81f0b5",
   "metadata": {
    "execution": {
     "iopub.execute_input": "2025-07-25T02:20:57.283624Z",
     "iopub.status.busy": "2025-07-25T02:20:57.283157Z",
     "iopub.status.idle": "2025-07-25T02:20:57.287297Z",
     "shell.execute_reply": "2025-07-25T02:20:57.286724Z",
     "shell.execute_reply.started": "2025-07-25T02:20:57.283597Z"
    }
   },
   "outputs": [],
   "source": [
    "A = set(map(int,f.readline().strip().split(\" \")))"
   ]
  },
  {
   "cell_type": "code",
   "execution_count": 63,
   "id": "7b66ae70-aa60-447e-aa3d-d2057d4064bb",
   "metadata": {
    "execution": {
     "iopub.execute_input": "2025-07-25T02:20:58.140406Z",
     "iopub.status.busy": "2025-07-25T02:20:58.140078Z",
     "iopub.status.idle": "2025-07-25T02:20:58.144675Z",
     "shell.execute_reply": "2025-07-25T02:20:58.143890Z",
     "shell.execute_reply.started": "2025-07-25T02:20:58.140384Z"
    }
   },
   "outputs": [],
   "source": [
    "B = set(map(int,f.readline().strip().split(\" \")))"
   ]
  },
  {
   "cell_type": "code",
   "execution_count": 68,
   "id": "cf8fa17f-2e07-4e20-b5a8-291060d05b41",
   "metadata": {
    "execution": {
     "iopub.execute_input": "2025-07-25T02:21:33.870146Z",
     "iopub.status.busy": "2025-07-25T02:21:33.869813Z",
     "iopub.status.idle": "2025-07-25T02:21:33.873397Z",
     "shell.execute_reply": "2025-07-25T02:21:33.872638Z",
     "shell.execute_reply.started": "2025-07-25T02:21:33.870123Z"
    }
   },
   "outputs": [],
   "source": [
    "happiness = 0"
   ]
  },
  {
   "cell_type": "code",
   "execution_count": 71,
   "id": "8adbcddc-da49-4713-b642-a1f17a6000f5",
   "metadata": {
    "execution": {
     "iopub.execute_input": "2025-07-25T02:21:44.373569Z",
     "iopub.status.busy": "2025-07-25T02:21:44.373219Z",
     "iopub.status.idle": "2025-07-25T02:21:44.378343Z",
     "shell.execute_reply": "2025-07-25T02:21:44.377697Z",
     "shell.execute_reply.started": "2025-07-25T02:21:44.373546Z"
    },
    "scrolled": true
   },
   "outputs": [],
   "source": [
    "for i in a:\n",
    "    if i in A:\n",
    "        happiness += 1\n",
    "    if i in B:\n",
    "        happiness -= 1"
   ]
  },
  {
   "cell_type": "code",
   "execution_count": 70,
   "id": "d1b7e2dd-518c-4b45-a298-be3af07b2163",
   "metadata": {
    "execution": {
     "iopub.execute_input": "2025-07-25T02:21:35.329794Z",
     "iopub.status.busy": "2025-07-25T02:21:35.329436Z",
     "iopub.status.idle": "2025-07-25T02:21:35.333642Z",
     "shell.execute_reply": "2025-07-25T02:21:35.332994Z",
     "shell.execute_reply.started": "2025-07-25T02:21:35.329771Z"
    }
   },
   "outputs": [
    {
     "data": {
      "text/plain": [
       "9"
      ]
     },
     "execution_count": 70,
     "metadata": {},
     "output_type": "execute_result"
    }
   ],
   "source": [
    "happiness"
   ]
  },
  {
   "cell_type": "code",
   "execution_count": null,
   "id": "7e73de3d-483b-4405-8c92-0c8fe36d5401",
   "metadata": {},
   "outputs": [],
   "source": []
  },
  {
   "cell_type": "code",
   "execution_count": 58,
   "id": "2a693a04-94ae-412e-b57c-a68107e93bb8",
   "metadata": {
    "execution": {
     "iopub.execute_input": "2025-07-25T02:20:53.479346Z",
     "iopub.status.busy": "2025-07-25T02:20:53.479009Z",
     "iopub.status.idle": "2025-07-25T02:20:53.482402Z",
     "shell.execute_reply": "2025-07-25T02:20:53.481743Z",
     "shell.execute_reply.started": "2025-07-25T02:20:53.479322Z"
    }
   },
   "outputs": [],
   "source": [
    "f.close()"
   ]
  },
  {
   "cell_type": "code",
   "execution_count": null,
   "id": "419e9bf7-dff3-4503-8bc0-e878327d2fec",
   "metadata": {},
   "outputs": [],
   "source": []
  }
 ],
 "metadata": {
  "kernelspec": {
   "display_name": "Python 3 (ipykernel)",
   "language": "python",
   "name": "python3"
  },
  "language_info": {
   "codemirror_mode": {
    "name": "ipython",
    "version": 3
   },
   "file_extension": ".py",
   "mimetype": "text/x-python",
   "name": "python",
   "nbconvert_exporter": "python",
   "pygments_lexer": "ipython3",
   "version": "3.13.5"
  }
 },
 "nbformat": 4,
 "nbformat_minor": 5
}
