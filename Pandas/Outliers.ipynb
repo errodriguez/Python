{
 "cells": [
  {
   "cell_type": "code",
   "execution_count": 1,
   "id": "eaa1b4b5-596d-408f-ab2a-8ba38a52d01a",
   "metadata": {
    "execution": {
     "iopub.execute_input": "2025-04-28T16:37:05.126875Z",
     "iopub.status.busy": "2025-04-28T16:37:05.126512Z",
     "iopub.status.idle": "2025-04-28T16:37:05.965601Z",
     "shell.execute_reply": "2025-04-28T16:37:05.964332Z",
     "shell.execute_reply.started": "2025-04-28T16:37:05.126849Z"
    }
   },
   "outputs": [],
   "source": [
    "import numpy as np\n",
    "import pandas as pd"
   ]
  },
  {
   "cell_type": "code",
   "execution_count": 2,
   "id": "46e8d824-40c0-49a2-9391-40fce4b984a1",
   "metadata": {
    "execution": {
     "iopub.execute_input": "2025-04-28T14:17:10.235065Z",
     "iopub.status.busy": "2025-04-28T14:17:10.234643Z",
     "iopub.status.idle": "2025-04-28T14:17:10.238767Z",
     "shell.execute_reply": "2025-04-28T14:17:10.238074Z",
     "shell.execute_reply.started": "2025-04-28T14:17:10.235042Z"
    }
   },
   "outputs": [],
   "source": [
    "data = [10, 12, 15, 15, 16, 18, 20, 25, 30, 50, 100, 200]  # Example dataset\n",
    "cutoff = 1.5  # Default IQR cutoff"
   ]
  },
  {
   "cell_type": "code",
   "execution_count": 3,
   "id": "70984337-503f-4246-9862-b71ac433a6f0",
   "metadata": {
    "execution": {
     "iopub.execute_input": "2025-04-28T14:17:12.290056Z",
     "iopub.status.busy": "2025-04-28T14:17:12.289733Z",
     "iopub.status.idle": "2025-04-28T14:17:12.295671Z",
     "shell.execute_reply": "2025-04-28T14:17:12.294996Z",
     "shell.execute_reply.started": "2025-04-28T14:17:12.290035Z"
    }
   },
   "outputs": [],
   "source": [
    "if not isinstance(data, pd.Series):\n",
    "    data = pd.Series(data)"
   ]
  },
  {
   "cell_type": "code",
   "execution_count": 4,
   "id": "c02e5585-1cd9-4854-83df-bb7b15bda3b6",
   "metadata": {
    "execution": {
     "iopub.execute_input": "2025-04-28T14:17:15.146691Z",
     "iopub.status.busy": "2025-04-28T14:17:15.146326Z",
     "iopub.status.idle": "2025-04-28T14:17:15.157192Z",
     "shell.execute_reply": "2025-04-28T14:17:15.156605Z",
     "shell.execute_reply.started": "2025-04-28T14:17:15.146665Z"
    }
   },
   "outputs": [],
   "source": [
    "Q1 = data.quantile(0.25)\n",
    "Q3 = data.quantile(0.75)"
   ]
  },
  {
   "cell_type": "code",
   "execution_count": 7,
   "id": "d12d90ea-1f00-4725-b2dd-9fabf2c03bd3",
   "metadata": {
    "execution": {
     "iopub.execute_input": "2025-04-28T14:18:02.518786Z",
     "iopub.status.busy": "2025-04-28T14:18:02.518297Z",
     "iopub.status.idle": "2025-04-28T14:18:02.526400Z",
     "shell.execute_reply": "2025-04-28T14:18:02.525486Z",
     "shell.execute_reply.started": "2025-04-28T14:18:02.518744Z"
    }
   },
   "outputs": [],
   "source": [
    "# Calculate the Interquartile Range (IQR)\n",
    "IQR = Q3 - Q1"
   ]
  },
  {
   "cell_type": "code",
   "execution_count": 8,
   "id": "fda93938-1754-4e15-835b-a45f68c6f323",
   "metadata": {
    "execution": {
     "iopub.execute_input": "2025-04-28T14:18:09.716969Z",
     "iopub.status.busy": "2025-04-28T14:18:09.716601Z",
     "iopub.status.idle": "2025-04-28T14:18:09.722084Z",
     "shell.execute_reply": "2025-04-28T14:18:09.721301Z",
     "shell.execute_reply.started": "2025-04-28T14:18:09.716947Z"
    }
   },
   "outputs": [],
   "source": [
    "lower_bound = Q1 - (cutoff * IQR)\n",
    "upper_bound = Q3 + (cutoff * IQR)"
   ]
  },
  {
   "cell_type": "code",
   "execution_count": 9,
   "id": "f33017ce-31fe-4464-9b05-3d1cd8fba1ec",
   "metadata": {
    "execution": {
     "iopub.execute_input": "2025-04-28T14:18:14.726873Z",
     "iopub.status.busy": "2025-04-28T14:18:14.726542Z",
     "iopub.status.idle": "2025-04-28T14:18:14.731436Z",
     "shell.execute_reply": "2025-04-28T14:18:14.730174Z",
     "shell.execute_reply.started": "2025-04-28T14:18:14.726850Z"
    }
   },
   "outputs": [],
   "source": [
    "filtered_data = data[(data >= lower_bound) & (data <= upper_bound)]"
   ]
  },
  {
   "cell_type": "code",
   "execution_count": 12,
   "id": "cf1ed4ba-3b57-44c3-982e-5f61c2498255",
   "metadata": {
    "execution": {
     "iopub.execute_input": "2025-04-28T14:19:34.794972Z",
     "iopub.status.busy": "2025-04-28T14:19:34.794641Z",
     "iopub.status.idle": "2025-04-28T14:19:34.798966Z",
     "shell.execute_reply": "2025-04-28T14:19:34.798321Z",
     "shell.execute_reply.started": "2025-04-28T14:19:34.794949Z"
    }
   },
   "outputs": [
    {
     "name": "stdout",
     "output_type": "stream",
     "text": [
      "Original Data:  [10, 12, 15, 15, 16, 18, 20, 25, 30, 50, 100, 200]\n",
      "Filtered Data:  [10, 12, 15, 15, 16, 18, 20, 25, 30, 50]\n"
     ]
    }
   ],
   "source": [
    "print(\"Original Data: \", data.to_list())\n",
    "print(\"Filtered Data: \", filtered_data.tolist())"
   ]
  },
  {
   "cell_type": "code",
   "execution_count": 2,
   "id": "1bf294b3-01cc-40ed-912e-219ddcf862fd",
   "metadata": {
    "execution": {
     "iopub.execute_input": "2025-04-28T16:37:08.043086Z",
     "iopub.status.busy": "2025-04-28T16:37:08.042616Z",
     "iopub.status.idle": "2025-04-28T16:37:08.049736Z",
     "shell.execute_reply": "2025-04-28T16:37:08.049020Z",
     "shell.execute_reply.started": "2025-04-28T16:37:08.043058Z"
    }
   },
   "outputs": [],
   "source": [
    "def remove_outliers(data, cutoff=1.5):\n",
    "    \"\"\"\n",
    "    Removes outliers from a dataset based on the IQR method.\n",
    "\n",
    "    Parameters:\n",
    "    - data: The dataset (list or numpy array).\n",
    "    - cutoff: The factor by which to multiply the IQR to determine outlier thresholds (default is 1.5).\n",
    "\n",
    "    Returns:\n",
    "    - A list or pandas Series with outliers removed.\n",
    "    \"\"\"\n",
    "    # Convert the data into a pandas Series if it's not already\n",
    "    if not isinstance(data, pd.Series):\n",
    "        data = pd.Series(data)\n",
    "\n",
    "    # Calculate Q1 (25th percentile) and Q3 (75th percentile)\n",
    "    Q1 = data.quantile(0.25)\n",
    "    Q3 = data.quantile(0.75)\n",
    "\n",
    "    # Calculate the Interquartile Range (IQR)\n",
    "    IQR = Q3 - Q1\n",
    "\n",
    "    # Calculate the lower and upper bounds\n",
    "    lower_bound = Q1 - (cutoff * IQR)\n",
    "    upper_bound = Q3 + (cutoff * IQR)\n",
    "\n",
    "    # Remove the outliers\n",
    "    filtered_data = data[(data >= lower_bound) & (data <= upper_bound)]\n",
    "\n",
    "    return filtered_data"
   ]
  },
  {
   "cell_type": "code",
   "execution_count": 4,
   "id": "ec0dccce-0ade-4e0f-94bc-672fc1a00236",
   "metadata": {
    "execution": {
     "iopub.execute_input": "2025-04-28T16:42:45.602277Z",
     "iopub.status.busy": "2025-04-28T16:42:45.601846Z",
     "iopub.status.idle": "2025-04-28T16:42:45.612087Z",
     "shell.execute_reply": "2025-04-28T16:42:45.611541Z",
     "shell.execute_reply.started": "2025-04-28T16:42:45.602254Z"
    }
   },
   "outputs": [
    {
     "name": "stdout",
     "output_type": "stream",
     "text": [
      "Original Data:  [49 49 51 54 26 52 46 52 65 43]\n",
      "Filtered Data:  [49, 49, 51, 54, 52, 46, 52, 43]\n"
     ]
    }
   ],
   "source": [
    "# Example usage:\n",
    "data = np.random.normal(loc=50, scale=10, size=10)\n",
    "data = np.round(data).astype(int)\n",
    "cutoff = 1.5  # Default IQR cutoff\n",
    "filtered_data = remove_outliers(data, cutoff)\n",
    "\n",
    "print(\"Original Data: \", data)\n",
    "print(\"Filtered Data: \", filtered_data.tolist())"
   ]
  },
  {
   "cell_type": "code",
   "execution_count": null,
   "id": "da0c1a82-f7c2-4888-8a3f-ee4596e25b6a",
   "metadata": {},
   "outputs": [],
   "source": []
  }
 ],
 "metadata": {
  "kernelspec": {
   "display_name": "Python 3 (ipykernel)",
   "language": "python",
   "name": "python3"
  },
  "language_info": {
   "codemirror_mode": {
    "name": "ipython",
    "version": 3
   },
   "file_extension": ".py",
   "mimetype": "text/x-python",
   "name": "python",
   "nbconvert_exporter": "python",
   "pygments_lexer": "ipython3",
   "version": "3.13.2"
  }
 },
 "nbformat": 4,
 "nbformat_minor": 5
}
