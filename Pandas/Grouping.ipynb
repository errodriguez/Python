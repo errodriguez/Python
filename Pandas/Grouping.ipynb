{
 "cells": [
  {
   "cell_type": "code",
   "execution_count": 1,
   "id": "79c12cd3-78ff-4551-99ed-4cb9420f5bcb",
   "metadata": {
    "execution": {
     "iopub.execute_input": "2025-04-28T14:27:55.194916Z",
     "iopub.status.busy": "2025-04-28T14:27:55.194524Z",
     "iopub.status.idle": "2025-04-28T14:27:55.525269Z",
     "shell.execute_reply": "2025-04-28T14:27:55.525020Z",
     "shell.execute_reply.started": "2025-04-28T14:27:55.194884Z"
    }
   },
   "outputs": [],
   "source": [
    "import pandas as pd"
   ]
  },
  {
   "cell_type": "code",
   "execution_count": 2,
   "id": "a4456ecd-ee04-45d7-8523-24503c6ea9c8",
   "metadata": {
    "execution": {
     "iopub.execute_input": "2025-04-28T14:28:05.092935Z",
     "iopub.status.busy": "2025-04-28T14:28:05.092489Z",
     "iopub.status.idle": "2025-04-28T14:28:05.099045Z",
     "shell.execute_reply": "2025-04-28T14:28:05.098275Z",
     "shell.execute_reply.started": "2025-04-28T14:28:05.092906Z"
    }
   },
   "outputs": [],
   "source": [
    "# Example DataFrame\n",
    "data = {'A': ['Group1', 'Group1', 'Group2', 'Group2', 'Group3', 'Group3'],\n",
    "        'B': [10, 20, 20, 30, 10, 50]}\n",
    "\n",
    "df = pd.DataFrame(data)"
   ]
  },
  {
   "cell_type": "code",
   "execution_count": 3,
   "id": "ff5db6f9-ea40-49ec-adf8-9555cfd6dcff",
   "metadata": {
    "execution": {
     "iopub.execute_input": "2025-04-28T14:28:15.306293Z",
     "iopub.status.busy": "2025-04-28T14:28:15.305912Z",
     "iopub.status.idle": "2025-04-28T14:28:15.326186Z",
     "shell.execute_reply": "2025-04-28T14:28:15.325141Z",
     "shell.execute_reply.started": "2025-04-28T14:28:15.306265Z"
    }
   },
   "outputs": [
    {
     "data": {
      "text/html": [
       "<div>\n",
       "<style scoped>\n",
       "    .dataframe tbody tr th:only-of-type {\n",
       "        vertical-align: middle;\n",
       "    }\n",
       "\n",
       "    .dataframe tbody tr th {\n",
       "        vertical-align: top;\n",
       "    }\n",
       "\n",
       "    .dataframe thead th {\n",
       "        text-align: right;\n",
       "    }\n",
       "</style>\n",
       "<table border=\"1\" class=\"dataframe\">\n",
       "  <thead>\n",
       "    <tr style=\"text-align: right;\">\n",
       "      <th></th>\n",
       "      <th>A</th>\n",
       "      <th>B</th>\n",
       "    </tr>\n",
       "  </thead>\n",
       "  <tbody>\n",
       "    <tr>\n",
       "      <th>0</th>\n",
       "      <td>Group1</td>\n",
       "      <td>10</td>\n",
       "    </tr>\n",
       "    <tr>\n",
       "      <th>1</th>\n",
       "      <td>Group1</td>\n",
       "      <td>20</td>\n",
       "    </tr>\n",
       "    <tr>\n",
       "      <th>2</th>\n",
       "      <td>Group2</td>\n",
       "      <td>20</td>\n",
       "    </tr>\n",
       "    <tr>\n",
       "      <th>3</th>\n",
       "      <td>Group2</td>\n",
       "      <td>30</td>\n",
       "    </tr>\n",
       "    <tr>\n",
       "      <th>4</th>\n",
       "      <td>Group3</td>\n",
       "      <td>10</td>\n",
       "    </tr>\n",
       "    <tr>\n",
       "      <th>5</th>\n",
       "      <td>Group3</td>\n",
       "      <td>50</td>\n",
       "    </tr>\n",
       "  </tbody>\n",
       "</table>\n",
       "</div>"
      ],
      "text/plain": [
       "        A   B\n",
       "0  Group1  10\n",
       "1  Group1  20\n",
       "2  Group2  20\n",
       "3  Group2  30\n",
       "4  Group3  10\n",
       "5  Group3  50"
      ]
     },
     "execution_count": 3,
     "metadata": {},
     "output_type": "execute_result"
    }
   ],
   "source": [
    "df"
   ]
  },
  {
   "cell_type": "code",
   "execution_count": 4,
   "id": "0e7311e2-3ec1-4895-84cd-3f0a097deac1",
   "metadata": {
    "execution": {
     "iopub.execute_input": "2025-04-28T14:28:25.625248Z",
     "iopub.status.busy": "2025-04-28T14:28:25.624623Z",
     "iopub.status.idle": "2025-04-28T14:28:25.631325Z",
     "shell.execute_reply": "2025-04-28T14:28:25.630644Z",
     "shell.execute_reply.started": "2025-04-28T14:28:25.625219Z"
    }
   },
   "outputs": [],
   "source": [
    "# Value we are searching for in column B\n",
    "value_to_find = 20"
   ]
  },
  {
   "cell_type": "code",
   "execution_count": 5,
   "id": "425db283-0058-401b-9516-764befe82c29",
   "metadata": {
    "execution": {
     "iopub.execute_input": "2025-04-28T14:29:08.163814Z",
     "iopub.status.busy": "2025-04-28T14:29:08.163425Z",
     "iopub.status.idle": "2025-04-28T14:29:08.176432Z",
     "shell.execute_reply": "2025-04-28T14:29:08.175771Z",
     "shell.execute_reply.started": "2025-04-28T14:29:08.163786Z"
    }
   },
   "outputs": [],
   "source": [
    "# Grouping by column A and applying the condition on column B\n",
    "groups_with_value = df.groupby('A').filter(lambda group: value_to_find in group['B'].values)"
   ]
  },
  {
   "cell_type": "code",
   "execution_count": 6,
   "id": "2dbdfa70-09cc-48ed-a9f6-05ad72458bae",
   "metadata": {
    "execution": {
     "iopub.execute_input": "2025-04-28T14:29:11.817576Z",
     "iopub.status.busy": "2025-04-28T14:29:11.816510Z",
     "iopub.status.idle": "2025-04-28T14:29:11.822300Z",
     "shell.execute_reply": "2025-04-28T14:29:11.821617Z",
     "shell.execute_reply.started": "2025-04-28T14:29:11.817541Z"
    }
   },
   "outputs": [
    {
     "name": "stdout",
     "output_type": "stream",
     "text": [
      "Groups that contain the value 20 in column B: ['Group1' 'Group2']\n"
     ]
    }
   ],
   "source": [
    "# Get unique group names where the condition is met\n",
    "result = groups_with_value['A'].unique()\n",
    "\n",
    "# Display the result\n",
    "print(\"Groups that contain the value\", value_to_find, \"in column B:\", result)"
   ]
  },
  {
   "cell_type": "code",
   "execution_count": null,
   "id": "eaf5af50-99bd-482b-af54-143065043de1",
   "metadata": {},
   "outputs": [],
   "source": []
  }
 ],
 "metadata": {
  "kernelspec": {
   "display_name": "Python 3 (ipykernel)",
   "language": "python",
   "name": "python3"
  },
  "language_info": {
   "codemirror_mode": {
    "name": "ipython",
    "version": 3
   },
   "file_extension": ".py",
   "mimetype": "text/x-python",
   "name": "python",
   "nbconvert_exporter": "python",
   "pygments_lexer": "ipython3",
   "version": "3.13.2"
  }
 },
 "nbformat": 4,
 "nbformat_minor": 5
}
