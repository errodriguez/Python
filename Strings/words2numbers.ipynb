{
 "cells": [
  {
   "cell_type": "raw",
   "id": "270ade30-a542-40e1-b772-d38fa71879ad",
   "metadata": {
    "execution": {
     "iopub.execute_input": "2025-07-31T01:21:43.354504Z",
     "iopub.status.busy": "2025-07-31T01:21:43.354130Z",
     "iopub.status.idle": "2025-07-31T01:21:49.414698Z",
     "shell.execute_reply": "2025-07-31T01:21:49.414170Z",
     "shell.execute_reply.started": "2025-07-31T01:21:43.354474Z"
    }
   },
   "source": [
    "# Successfully installed pandas-2.3.1 pytz-2025.2 tzdata-2025.2\n",
    "! pip install pandas"
   ]
  },
  {
   "cell_type": "code",
   "execution_count": 4,
   "id": "46a9ec21-b719-4e38-b289-ef0101daf3ac",
   "metadata": {
    "execution": {
     "iopub.execute_input": "2025-07-31T01:22:29.316295Z",
     "iopub.status.busy": "2025-07-31T01:22:29.315896Z",
     "iopub.status.idle": "2025-07-31T01:22:35.426518Z",
     "shell.execute_reply": "2025-07-31T01:22:35.425855Z",
     "shell.execute_reply.started": "2025-07-31T01:22:29.316267Z"
    }
   },
   "outputs": [],
   "source": [
    "import pandas as pd\n",
    "import numpy as np"
   ]
  },
  {
   "cell_type": "code",
   "execution_count": 5,
   "id": "c0b24d22-a20a-4eb6-9b8b-97e33d44fb86",
   "metadata": {
    "execution": {
     "iopub.execute_input": "2025-07-31T01:22:38.675502Z",
     "iopub.status.busy": "2025-07-31T01:22:38.675013Z",
     "iopub.status.idle": "2025-07-31T01:22:38.688217Z",
     "shell.execute_reply": "2025-07-31T01:22:38.687648Z",
     "shell.execute_reply.started": "2025-07-31T01:22:38.675478Z"
    }
   },
   "outputs": [
    {
     "name": "stdout",
     "output_type": "stream",
     "text": [
      "     values\n",
      "0  0.773143\n",
      "1 -8.716816\n",
      "2 -2.222944\n",
      "3  1.913245\n",
      "4  2.269296\n",
      "5 -8.125693\n",
      "6 -8.375250\n",
      "7 -7.668111\n",
      "8  9.331868\n",
      "9  4.460050\n"
     ]
    }
   ],
   "source": [
    "df = pd.DataFrame({'values': np.random.uniform(-10, 10, 10)})\n",
    "print(df)"
   ]
  },
  {
   "cell_type": "code",
   "execution_count": 6,
   "id": "1ec9bd52-ef43-44b1-a572-a845f0fd78f1",
   "metadata": {
    "execution": {
     "iopub.execute_input": "2025-07-31T01:29:41.259545Z",
     "iopub.status.busy": "2025-07-31T01:29:41.259143Z",
     "iopub.status.idle": "2025-07-31T01:29:41.266681Z",
     "shell.execute_reply": "2025-07-31T01:29:41.265844Z",
     "shell.execute_reply.started": "2025-07-31T01:29:41.259521Z"
    }
   },
   "outputs": [
    {
     "name": "stdout",
     "output_type": "stream",
     "text": [
      "minus four point six one\n",
      "seven point two five\n",
      "nine point zero\n"
     ]
    }
   ],
   "source": [
    "def float_to_words(num: float) -> str:\n",
    "    d = \"zero one two three four five six seven eight nine\".split()\n",
    "    s = str(num)\n",
    "    return \" \".join(([\"minus\"] if s.startswith(\"-\") else ([\"plus\"] if s.startswith(\"+\") else [])) +\n",
    "                    [\"point\" if c==\".\" else d[int(c)] for c in s.lstrip(\"+-\") if c.isdigit() or c==\".\"])\n",
    "\n",
    "# Examples\n",
    "print(float_to_words(-4.61))   # \"minus four point six one\"\n",
    "print(float_to_words(+7.25))   # \"plus seven point two five\"\n",
    "print(float_to_words(9.0))     # \"nine point zero\""
   ]
  },
  {
   "cell_type": "code",
   "execution_count": 7,
   "id": "ef5e5463-76dc-4235-99ae-327ae950a7de",
   "metadata": {
    "execution": {
     "iopub.execute_input": "2025-07-31T01:31:05.662767Z",
     "iopub.status.busy": "2025-07-31T01:31:05.662199Z",
     "iopub.status.idle": "2025-07-31T01:31:05.668763Z",
     "shell.execute_reply": "2025-07-31T01:31:05.668006Z",
     "shell.execute_reply.started": "2025-07-31T01:31:05.662742Z"
    }
   },
   "outputs": [
    {
     "name": "stdout",
     "output_type": "stream",
     "text": [
      "4.61\n",
      "7.25\n",
      "9.0\n"
     ]
    }
   ],
   "source": [
    "def words_to_float(text: str) -> float:\n",
    "    num_map = dict(zip(\n",
    "        [\"zero\",\"one\",\"two\",\"three\",\"four\",\"five\",\"six\",\"seven\",\"eight\",\"nine\"],\n",
    "        \"0123456789\"\n",
    "    ))\n",
    "    int_part, _, frac_part = text.lower().partition(\"point\")\n",
    "    return float(\n",
    "        \"\".join(num_map.get(w, \"\") for w in int_part.split()) +\n",
    "        (\".\" + \"\".join(num_map.get(w, \"\") for w in frac_part.split()) if frac_part else \"\")\n",
    "    )\n",
    "\n",
    "# Examples\n",
    "print(words_to_float(\"four point six one zero\"))  # 4.610\n",
    "print(words_to_float(\"seven point two five\"))     # 7.25\n",
    "print(words_to_float(\"nine\"))                     # 9.0"
   ]
  },
  {
   "cell_type": "code",
   "execution_count": 8,
   "id": "3856636a-f11c-4862-b8eb-c1b05ad2e45f",
   "metadata": {
    "execution": {
     "iopub.execute_input": "2025-07-31T01:40:44.879282Z",
     "iopub.status.busy": "2025-07-31T01:40:44.878868Z",
     "iopub.status.idle": "2025-07-31T01:40:44.885818Z",
     "shell.execute_reply": "2025-07-31T01:40:44.885169Z",
     "shell.execute_reply.started": "2025-07-31T01:40:44.879259Z"
    }
   },
   "outputs": [
    {
     "name": "stdout",
     "output_type": "stream",
     "text": [
      "4.61\n",
      "7.25\n",
      "9.0\n"
     ]
    }
   ],
   "source": [
    "def words_to_float(text: str) -> float:\n",
    "    num_map = {w: str(i) for i, w in enumerate(\n",
    "              [\"zero\",\"one\",\"two\",\"three\",\"four\",\"five\",\"six\",\"seven\",\"eight\",\"nine\"]\n",
    "    )}\n",
    "    int_part, _, frac_part = text.lower().partition(\"point\")\n",
    "    return float(\n",
    "        \"\".join(num_map.get(w, \"\") for w in int_part.split()) +\n",
    "        (\".\" + \"\".join(num_map.get(w, \"\") for w in frac_part.split()) if frac_part else \"\")\n",
    "    )\n",
    "\n",
    "# Examples\n",
    "print(words_to_float(\"four point six one zero\"))  # 4.610\n",
    "print(words_to_float(\"seven point two five\"))     # 7.25\n",
    "print(words_to_float(\"nine\"))                     # 9.0"
   ]
  },
  {
   "cell_type": "code",
   "execution_count": null,
   "id": "d1579876-181f-4ead-b4ca-6e268231b86a",
   "metadata": {
    "execution": {
     "iopub.execute_input": "2025-07-31T02:36:57.736833Z",
     "iopub.status.busy": "2025-07-31T02:36:57.736434Z",
     "iopub.status.idle": "2025-07-31T02:36:57.746819Z",
     "shell.execute_reply": "2025-07-31T02:36:57.746179Z",
     "shell.execute_reply.started": "2025-07-31T02:36:57.736805Z"
    }
   },
   "outputs": [],
   "source": [
    "def from_or_to_number(value: str | float) -> float | str:\n",
    "    if value in [None, \"\"]:\n",
    "        return None\n",
    "\n",
    "    num_map = dict()\n",
    "    if type(value) == str:\n",
    "        num_map = { w:str(i) for i, w in enumerate(\n",
    "                      [\"zero\", \"one\", \"two\", \"three\", \"four\", \"five\", \"six\", \"seven\", \"eight\", \"nine\"]\n",
    "        )}\n",
    "        i, _, f = value.lower().partition(\"point\")\n",
    "        return float(\"\".join([ \"minus\" ] if i.startswith(\"-\") else [ \"plus\" ] if i.startswith(\"+\") else [] +\n",
    "                             [ \"\".join(num_map.get(w, \"\") for w in i.split()) ] +\n",
    "                             [ \".\" ] +\n",
    "                             [ \"\".join(num_map.get(w, \"\") for w in f.split()) ]\n",
    "                            )\n",
    "        )\n",
    "    elif type(value) in [ int, float ]:\n",
    "        num_map = { str(i):w for i, w in enumerate(\n",
    "                      [\"zero\", \"one\", \"two\", \"three\", \"four\", \"five\", \"six\", \"seven\", \"eight\", \"nine\"]\n",
    "        )}\n",
    "        s = str(value)\n",
    "        return \" \".join([ \"minus\"] if s.startswith(\"-\") else [\"plus\"] if s.startswith(\"+\") else [] +\n",
    "                        [ \"point\" if c==\".\" else num_map[c] for c in s if c.isdigit()]\n",
    "        )\n",
    "    else:\n",
    "        return None\n",
    "\n",
    "\n",
    "\n",
    "# Examples\n",
    "print(from_or_to_number(\"four point six one zero\"))  # 4.610\n",
    "print(from_or_to_number(\"seven point two five\"))     # 7.25\n",
    "print(from_or_to_number(\"nine\"))                     # 9.0\n",
    "\n",
    "print(from_or_to_number(4.610))                      # \"four point six one zero\"\n",
    "print(from_or_to_number(7.25))                       # \"seven point two five\"\n",
    "print(from_or_to_number(9.0))                        # \"nine\""
   ]
  }
 ],
 "metadata": {
  "kernelspec": {
   "display_name": "Python 3 (ipykernel)",
   "language": "python",
   "name": "python3"
  },
  "language_info": {
   "codemirror_mode": {
    "name": "ipython",
    "version": 3
   },
   "file_extension": ".py",
   "mimetype": "text/x-python",
   "name": "python",
   "nbconvert_exporter": "python",
   "pygments_lexer": "ipython3",
   "version": "3.13.5"
  }
 },
 "nbformat": 4,
 "nbformat_minor": 5
}
