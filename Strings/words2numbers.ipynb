{
 "cells": [
  {
   "cell_type": "markdown",
   "id": "1e57d1ca-432b-48a5-8eec-fdf5a2171e4a",
   "metadata": {},
   "source": [
    "# Converting words to floating point numbers and viceversa"
   ]
  },
  {
   "cell_type": "raw",
   "id": "270ade30-a542-40e1-b772-d38fa71879ad",
   "metadata": {
    "execution": {
     "iopub.execute_input": "2025-07-31T01:21:43.354504Z",
     "iopub.status.busy": "2025-07-31T01:21:43.354130Z",
     "iopub.status.idle": "2025-07-31T01:21:49.414698Z",
     "shell.execute_reply": "2025-07-31T01:21:49.414170Z",
     "shell.execute_reply.started": "2025-07-31T01:21:43.354474Z"
    }
   },
   "source": [
    "# Successfully installed pandas-2.3.1 pytz-2025.2 tzdata-2025.2\n",
    "! pip install pandas"
   ]
  },
  {
   "cell_type": "code",
   "execution_count": 1,
   "id": "46a9ec21-b719-4e38-b289-ef0101daf3ac",
   "metadata": {
    "execution": {
     "iopub.execute_input": "2025-07-31T20:31:00.549658Z",
     "iopub.status.busy": "2025-07-31T20:31:00.549280Z",
     "iopub.status.idle": "2025-07-31T20:31:00.817561Z",
     "shell.execute_reply": "2025-07-31T20:31:00.817280Z",
     "shell.execute_reply.started": "2025-07-31T20:31:00.549632Z"
    }
   },
   "outputs": [],
   "source": [
    "import pandas as pd\n",
    "import numpy as np"
   ]
  },
  {
   "cell_type": "markdown",
   "id": "72b95478-2276-43c8-b398-6340ae7ffd9b",
   "metadata": {},
   "source": [
    "## First attempt\n",
    "\n",
    "Given a string of words describing a floating point number, convert it into a floating point object."
   ]
  },
  {
   "cell_type": "code",
   "execution_count": 2,
   "id": "ebd6033f-2226-42d4-bbd9-b1b89a8c7595",
   "metadata": {
    "execution": {
     "iopub.execute_input": "2025-07-31T20:31:01.123088Z",
     "iopub.status.busy": "2025-07-31T20:31:01.122671Z",
     "iopub.status.idle": "2025-07-31T20:31:01.135210Z",
     "shell.execute_reply": "2025-07-31T20:31:01.134333Z",
     "shell.execute_reply.started": "2025-07-31T20:31:01.123063Z"
    }
   },
   "outputs": [
    {
     "name": "stdout",
     "output_type": "stream",
     "text": [
      "4.61\n",
      "7.25\n",
      "9.0\n"
     ]
    }
   ],
   "source": [
    "def words_to_float_v1(text: str) -> float:\n",
    "    # Mapping for number words\n",
    "    num_map = {\n",
    "        \"zero\": \"0\", \"one\": \"1\", \"two\": \"2\", \"three\": \"3\", \"four\": \"4\", \n",
    "        \"five\": \"5\", \"six\": \"6\", \"seven\": \"7\", \"eight\": \"8\", \"nine\": \"9\"\n",
    "    }\n",
    "    \n",
    "    # Normalise input\n",
    "    words = text.lower().strip().split()\n",
    "    \n",
    "    if \"point\" in words:\n",
    "        point_index = words.index(\"point\")\n",
    "        int_part_words = words[:point_index]\n",
    "        frac_part_words = words[point_index + 1:]\n",
    "    else:\n",
    "        int_part_words = words\n",
    "        frac_part_words = []\n",
    "    \n",
    "    # Convert integer and fractional parts\n",
    "    int_part = \"\".join(num_map[w] for w in int_part_words if w in num_map)\n",
    "    frac_part = \"\".join(num_map[w] for w in frac_part_words if w in num_map)\n",
    "    \n",
    "    # Build final string and convert to float\n",
    "    number_str = int_part if int_part else \"0\"\n",
    "    if frac_part:\n",
    "        number_str += \".\" + frac_part\n",
    "    \n",
    "    return float(number_str)\n",
    "\n",
    "# Example usage:\n",
    "print(words_to_float_v1(\"four point six one zero\"))   # 4.610\n",
    "print(words_to_float_v1(\"seven point two five\"))      # 7.25\n",
    "print(words_to_float_v1(\"nine\"))                      # 9.0"
   ]
  },
  {
   "cell_type": "markdown",
   "id": "b3fe12c1-be16-4f58-9285-06027c1e68ba",
   "metadata": {},
   "source": [
    "## Second attempt\n",
    "\n",
    "The previous function can be refactored into a most compact one."
   ]
  },
  {
   "cell_type": "code",
   "execution_count": 3,
   "id": "ef5e5463-76dc-4235-99ae-327ae950a7de",
   "metadata": {
    "execution": {
     "iopub.execute_input": "2025-07-31T20:31:02.052944Z",
     "iopub.status.busy": "2025-07-31T20:31:02.052608Z",
     "iopub.status.idle": "2025-07-31T20:31:02.061033Z",
     "shell.execute_reply": "2025-07-31T20:31:02.060249Z",
     "shell.execute_reply.started": "2025-07-31T20:31:02.052920Z"
    }
   },
   "outputs": [
    {
     "name": "stdout",
     "output_type": "stream",
     "text": [
      "4.61\n",
      "7.25\n",
      "9.0\n"
     ]
    }
   ],
   "source": [
    "def words_to_float_v2(text: str) -> float:\n",
    "    num_map = dict(zip(\n",
    "        [\"zero\",\"one\",\"two\",\"three\",\"four\",\"five\",\"six\",\"seven\",\"eight\",\"nine\"],\n",
    "        \"0123456789\"\n",
    "    ))\n",
    "    int_part, _, frac_part = text.lower().partition(\"point\")\n",
    "    return float(\n",
    "        \"\".join(num_map.get(w, \"\") for w in int_part.split()) +\n",
    "        (\".\" + \"\".join(num_map.get(w, \"\") for w in frac_part.split()) if frac_part else \"\")\n",
    "    )\n",
    "\n",
    "# Examples\n",
    "print(words_to_float_v2(\"four point six one zero\"))  # 4.610\n",
    "print(words_to_float_v2(\"seven point two five\"))     # 7.25\n",
    "print(words_to_float_v2(\"nine\"))                     # 9.0"
   ]
  },
  {
   "cell_type": "markdown",
   "id": "09cbd8ee-253c-4b22-9f18-ba3f45b6b3a7",
   "metadata": {},
   "source": [
    "## Third attempt\n",
    "\n",
    "Now, we can use the index in the list to refactor the map definition."
   ]
  },
  {
   "cell_type": "code",
   "execution_count": 4,
   "id": "3856636a-f11c-4862-b8eb-c1b05ad2e45f",
   "metadata": {
    "execution": {
     "iopub.execute_input": "2025-07-31T20:31:02.724904Z",
     "iopub.status.busy": "2025-07-31T20:31:02.724435Z",
     "iopub.status.idle": "2025-07-31T20:31:02.732789Z",
     "shell.execute_reply": "2025-07-31T20:31:02.731788Z",
     "shell.execute_reply.started": "2025-07-31T20:31:02.724880Z"
    }
   },
   "outputs": [
    {
     "name": "stdout",
     "output_type": "stream",
     "text": [
      "4.61\n",
      "7.25\n",
      "9.0\n"
     ]
    }
   ],
   "source": [
    "def words_to_float_v3(text: str) -> float:\n",
    "    num_map = {w: str(i) for i, w in enumerate(\n",
    "              [\"zero\",\"one\",\"two\",\"three\",\"four\",\"five\",\"six\",\"seven\",\"eight\",\"nine\"]\n",
    "    )}\n",
    "    int_part, _, frac_part = text.lower().partition(\"point\")\n",
    "    return float(\n",
    "        \"\".join(num_map.get(w, \"\") for w in int_part.split()) +\n",
    "        (\".\" + \"\".join(num_map.get(w, \"\") for w in frac_part.split()) if frac_part else \"\")\n",
    "    )\n",
    "\n",
    "# Examples\n",
    "print(words_to_float_v3(\"four point six one zero\"))  # 4.610\n",
    "print(words_to_float_v3(\"seven point two five\"))     # 7.25\n",
    "print(words_to_float_v3(\"nine\"))                     # 9.0"
   ]
  },
  {
   "cell_type": "markdown",
   "id": "ce017cf7-3de1-4634-848c-e845ef55ffed",
   "metadata": {},
   "source": [
    "## The inverse\n",
    "\n",
    "And, what about to the opposoite action?"
   ]
  },
  {
   "cell_type": "code",
   "execution_count": 5,
   "id": "1ec9bd52-ef43-44b1-a572-a845f0fd78f1",
   "metadata": {
    "execution": {
     "iopub.execute_input": "2025-07-31T20:31:03.718914Z",
     "iopub.status.busy": "2025-07-31T20:31:03.718577Z",
     "iopub.status.idle": "2025-07-31T20:31:03.727441Z",
     "shell.execute_reply": "2025-07-31T20:31:03.726719Z",
     "shell.execute_reply.started": "2025-07-31T20:31:03.718891Z"
    }
   },
   "outputs": [
    {
     "name": "stdout",
     "output_type": "stream",
     "text": [
      "minus four point six one\n",
      "seven point two five\n",
      "nine point zero\n"
     ]
    }
   ],
   "source": [
    "def float_to_words(num: float) -> str:\n",
    "    d = \"zero one two three four five six seven eight nine\".split()\n",
    "    s = str(num)\n",
    "    return \" \".join(([\"minus\"] if s.startswith(\"-\") else ([\"plus\"] if s.startswith(\"+\") else [])) +\n",
    "                    [\"point\" if c==\".\" else d[int(c)] for c in s.lstrip(\"+-\") if c.isdigit() or c==\".\"])\n",
    "\n",
    "# Examples\n",
    "print(float_to_words(-4.61))   # \"minus four point six one\"\n",
    "print(float_to_words(+7.25))   # \"plus seven point two five\"\n",
    "print(float_to_words(9.0))     # \"nine point zero\""
   ]
  },
  {
   "cell_type": "markdown",
   "id": "21bb4f4e-a8f9-4876-88e6-df866923cd4a",
   "metadata": {},
   "source": [
    "## The ultimate function\n",
    "\n",
    "Can both approaches be combined into a one function?"
   ]
  },
  {
   "cell_type": "code",
   "execution_count": 6,
   "id": "d1579876-181f-4ead-b4ca-6e268231b86a",
   "metadata": {
    "execution": {
     "iopub.execute_input": "2025-07-31T20:31:17.704912Z",
     "iopub.status.busy": "2025-07-31T20:31:17.704308Z",
     "iopub.status.idle": "2025-07-31T20:31:17.718385Z",
     "shell.execute_reply": "2025-07-31T20:31:17.717735Z",
     "shell.execute_reply.started": "2025-07-31T20:31:17.704871Z"
    }
   },
   "outputs": [
    {
     "name": "stdout",
     "output_type": "stream",
     "text": [
      "4.61\n",
      "7.25\n",
      "9.0\n",
      "four six one\n",
      "seven two five\n",
      "nine zero\n"
     ]
    }
   ],
   "source": [
    "def from_or_to_number(value: str | float) -> float | str:\n",
    "    if value in [None, \"\"]:\n",
    "        return None\n",
    "\n",
    "    num_map = dict()\n",
    "    if type(value) == str:\n",
    "        num_map = { w:str(i) for i, w in enumerate(\n",
    "                      [\"zero\", \"one\", \"two\", \"three\", \"four\", \"five\", \"six\", \"seven\", \"eight\", \"nine\"]\n",
    "        )}\n",
    "        i, _, f = value.lower().partition(\"point\")\n",
    "        return float(\"\".join([ \"minus\" ] if i.startswith(\"-\") else [ \"plus\" ] if i.startswith(\"+\") else [] +\n",
    "                             [ \"\".join(num_map.get(w, \"\") for w in i.split()) ] +\n",
    "                             [ \".\" ] +\n",
    "                             [ \"\".join(num_map.get(w, \"\") for w in f.split()) ]\n",
    "                            )\n",
    "        )\n",
    "    elif type(value) in [ int, float ]:\n",
    "        num_map = { str(i):w for i, w in enumerate(\n",
    "                      [\"zero\", \"one\", \"two\", \"three\", \"four\", \"five\", \"six\", \"seven\", \"eight\", \"nine\"]\n",
    "        )}\n",
    "        s = str(value)\n",
    "        return \" \".join([ \"minus\"] if s.startswith(\"-\") else [\"plus\"] if s.startswith(\"+\") else [] +\n",
    "                        [ \"point\" if c==\".\" else num_map[c] for c in s if c.isdigit()]\n",
    "        )\n",
    "    else:\n",
    "        return None\n",
    "\n",
    "\n",
    "\n",
    "# Examples\n",
    "print(from_or_to_number(\"four point six one zero\"))  # 4.610\n",
    "print(from_or_to_number(\"seven point two five\"))     # 7.25\n",
    "print(from_or_to_number(\"nine\"))                     # 9.0\n",
    "\n",
    "print(from_or_to_number(4.610))                      # \"four point six one zero\"\n",
    "print(from_or_to_number(7.25))                       # \"seven point two five\"\n",
    "print(from_or_to_number(9.0))                        # \"nine\""
   ]
  },
  {
   "cell_type": "markdown",
   "id": "c4a1af9e-5e35-4c18-92cb-aa6143a9973f",
   "metadata": {},
   "source": [
    "## Excercise"
   ]
  },
  {
   "cell_type": "markdown",
   "id": "3437949a-3c55-4e44-ac00-8cae9a4ea802",
   "metadata": {},
   "source": [
    "### Example dataset"
   ]
  },
  {
   "cell_type": "code",
   "execution_count": 7,
   "id": "c0b24d22-a20a-4eb6-9b8b-97e33d44fb86",
   "metadata": {
    "execution": {
     "iopub.execute_input": "2025-07-31T20:31:21.096200Z",
     "iopub.status.busy": "2025-07-31T20:31:21.095602Z",
     "iopub.status.idle": "2025-07-31T20:31:21.108956Z",
     "shell.execute_reply": "2025-07-31T20:31:21.108160Z",
     "shell.execute_reply.started": "2025-07-31T20:31:21.096155Z"
    }
   },
   "outputs": [
    {
     "name": "stdout",
     "output_type": "stream",
     "text": [
      "     values\n",
      "0  4.211163\n",
      "1  0.063325\n",
      "2 -2.348341\n",
      "3 -4.194727\n",
      "4  6.225549\n",
      "5 -6.948032\n",
      "6  0.697528\n",
      "7  8.177460\n",
      "8 -8.918164\n",
      "9  8.836819\n"
     ]
    }
   ],
   "source": [
    "df = pd.DataFrame({'values': np.random.uniform(-10, 10, 10)})\n",
    "print(df)"
   ]
  },
  {
   "cell_type": "code",
   "execution_count": null,
   "id": "82a14d17-8171-4f87-9471-6813179b61e9",
   "metadata": {},
   "outputs": [],
   "source": []
  }
 ],
 "metadata": {
  "kernelspec": {
   "display_name": "Python 3 (ipykernel)",
   "language": "python",
   "name": "python3"
  },
  "language_info": {
   "codemirror_mode": {
    "name": "ipython",
    "version": 3
   },
   "file_extension": ".py",
   "mimetype": "text/x-python",
   "name": "python",
   "nbconvert_exporter": "python",
   "pygments_lexer": "ipython3",
   "version": "3.13.5"
  }
 },
 "nbformat": 4,
 "nbformat_minor": 5
}
